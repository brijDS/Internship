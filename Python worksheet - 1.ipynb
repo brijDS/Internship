{
 "cells": [
  {
   "cell_type": "code",
   "execution_count": 1,
   "id": "1f333c63",
   "metadata": {},
   "outputs": [],
   "source": [
    "import pandas as pd\n",
    "import numpy as nm"
   ]
  },
  {
   "cell_type": "code",
   "execution_count": 19,
   "id": "d4c27326",
   "metadata": {},
   "outputs": [
    {
     "data": {
      "text/plain": [
       "6"
      ]
     },
     "execution_count": 19,
     "metadata": {},
     "output_type": "execute_result"
    }
   ],
   "source": [
    "6|2"
   ]
  },
  {
   "cell_type": "raw",
   "id": "2cc07644",
   "metadata": {},
   "source": [
    "print(\"keywords\")"
   ]
  },
  {
   "cell_type": "raw",
   "id": "1e6fca51",
   "metadata": {},
   "source": []
  },
  {
   "cell_type": "code",
   "execution_count": 25,
   "id": "c9918dc9",
   "metadata": {},
   "outputs": [
    {
     "name": "stdout",
     "output_type": "stream",
     "text": [
      "['False', 'None', 'True', 'and', 'as', 'assert', 'async', 'await', 'break', 'class', 'continue', 'def', 'del', 'elif', 'else', 'except', 'finally', 'for', 'from', 'global', 'if', 'import', 'in', 'is', 'lambda', 'nonlocal', 'not', 'or', 'pass', 'raise', 'return', 'try', 'while', 'with', 'yield']\n"
     ]
    }
   ],
   "source": [
    "import keyword\n",
    "print (keyword.kwlist)"
   ]
  },
  {
   "cell_type": "code",
   "execution_count": 36,
   "id": "1cf57521",
   "metadata": {},
   "outputs": [
    {
     "name": "stdout",
     "output_type": "stream",
     "text": [
      "Factorial of 10 is 3628800\n"
     ]
    }
   ],
   "source": [
    "#11. python program to find the factorial of a number. \n",
    "\n",
    "import math\n",
    " \n",
    "def factorial(n):\n",
    "    return(math.factorial(n))\n",
    " \n",
    "num = 10\n",
    "print(\"Factorial of\", num, \"is\", factorial(num))"
   ]
  },
  {
   "cell_type": "code",
   "execution_count": 90,
   "id": "11267123",
   "metadata": {},
   "outputs": [
    {
     "name": "stdout",
     "output_type": "stream",
     "text": [
      "Please enter an integer = 101\n",
      "101 is a prime number\n"
     ]
    }
   ],
   "source": [
    "#12. python program to find whether a number is prime or composite. \n",
    "\n",
    "#get the value from user\n",
    "num = int(input(\"Please enter an integer = \"))\n",
    "if num>1:\n",
    "    for i in range(2, num): \n",
    "        #check divident\n",
    "        if(num%i==0):\n",
    "                print(num, \"is a composite number\")\n",
    "                break\n",
    "    else:\n",
    "        print(num, \"is a prime number\")  \n",
    "                \n",
    "else:\n",
    "    print(num, \"please enter a value greater than 1\")\n",
    "                "
   ]
  },
  {
   "cell_type": "code",
   "execution_count": 109,
   "id": "cd59b5d9",
   "metadata": {},
   "outputs": [
    {
     "name": "stdout",
     "output_type": "stream",
     "text": [
      "Yes\n"
     ]
    }
   ],
   "source": [
    "#13. python program to check whether a given string is palindrome or not. \n",
    "   \n",
    "s = \"noon\"\n",
    "val = string(s)\n",
    "\n",
    "def val(s):\n",
    "    #reverse tracing of the string\n",
    "    return s == s[::-1]\n",
    "\n",
    " \n",
    "if val:\n",
    "    print(\"Yes\")\n",
    "else:\n",
    "    print(\"No\")"
   ]
  },
  {
   "cell_type": "code",
   "execution_count": null,
   "id": "52b238e0",
   "metadata": {},
   "outputs": [],
   "source": [
    "#14 \n",
    "def printotherside(n):\n",
    "    h = (side1*side1)+(side2*side2)\n",
    "    \n",
    "#couldn't get this"
   ]
  },
  {
   "cell_type": "code",
   "execution_count": 12,
   "id": "4ab29173",
   "metadata": {},
   "outputs": [
    {
     "name": "stdout",
     "output_type": "stream",
     "text": [
      "Count of all characters in string is :\n",
      " {'D': 1, 'a': 3, 't': 2, ' ': 2, 'S': 1, 'c': 3, 'i': 2, 'e': 2, 'n': 2, 'E': 1, 'd': 1, 'u': 1, 'o': 1}\n"
     ]
    }
   ],
   "source": [
    "#15 python program to print the frequency of each of the characters present in a given string\n",
    "\n",
    "\n",
    "string = \"Data Science Education\"\n",
    "\n",
    "freq = {}\n",
    "\n",
    "for i in string:\n",
    "    if i in freq:\n",
    "        freq[i] += 1\n",
    "    else:\n",
    "        freq[i] = 1\n",
    "\n",
    "print (\"Count of all characters in string is :\\n \"\n",
    " + str (freq))\n"
   ]
  },
  {
   "cell_type": "code",
   "execution_count": null,
   "id": "613efbee",
   "metadata": {},
   "outputs": [],
   "source": []
  },
  {
   "cell_type": "code",
   "execution_count": null,
   "id": "70177c81",
   "metadata": {},
   "outputs": [],
   "source": []
  }
 ],
 "metadata": {
  "kernelspec": {
   "display_name": "Python 3",
   "language": "python",
   "name": "python3"
  },
  "language_info": {
   "codemirror_mode": {
    "name": "ipython",
    "version": 3
   },
   "file_extension": ".py",
   "mimetype": "text/x-python",
   "name": "python",
   "nbconvert_exporter": "python",
   "pygments_lexer": "ipython3",
   "version": "3.8.8"
  }
 },
 "nbformat": 4,
 "nbformat_minor": 5
}
